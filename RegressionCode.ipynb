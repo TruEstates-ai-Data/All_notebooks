{
 "cells": [
  {
   "cell_type": "code",
   "execution_count": null,
   "id": "01d940ba-fada-4a5e-b72a-497b4af00d1b",
   "metadata": {},
   "outputs": [],
   "source": [
    "## Regression analysis code\n",
    "\n",
    "## Data input and view the columns name.\n",
    "Data_To_Model = pd.read_csv(\"C:/Users/umaho/OneDrive/Desktop/Flipose/Clean_out/Data_Transaction_Dummies.csv\")\n",
    "print(Data_To_Model.columns.values)"
   ]
  },
  {
   "cell_type": "code",
   "execution_count": null,
   "id": "21f20472-4659-42fe-b8f0-500c2a582958",
   "metadata": {},
   "outputs": [],
   "source": [
    "#Split the data into training (70%) and test (30%)\n",
    "train, test = train_test_split(Data_To_Model, test_size=0.3)"
   ]
  },
  {
   "cell_type": "code",
   "execution_count": null,
   "id": "3f8aef74-f60b-4969-805a-ee648f02a2c4",
   "metadata": {},
   "outputs": [],
   "source": [
    "## simple basic model\n",
    "\n",
    "x = train[['procedure_area']]\n",
    "y = train['meter_sale_price']\n",
    "x = sm.add_constant(x)\n",
    "model = OLS(y,x).fit()\n",
    "model.summary()"
   ]
  },
  {
   "cell_type": "code",
   "execution_count": null,
   "id": "33561daa-14df-4a4e-836a-6caf84ed0f24",
   "metadata": {},
   "outputs": [],
   "source": [
    "#Model 2\n",
    "## Adding all variables to the model\n",
    "\n",
    "x = train[['procedure_area', 'usage_residential','usage_hospitality','Off_Plan_Reg', \n",
    " 'trans_group_gifts','trans_group_sales',\n",
    " 'Property_Building', 'Property_Unit', 'Property_Villa', 'Fam_landmarks', \n",
    " 'close_DubaiMall', 'Close_Marina_EmiratesMall', 'Close_MIRDIF_IBNMall', \n",
    " 'Rooms_3_4' , 'Rooms_moreThan_4', 'Rooms_Studio_Single', 'Rooms_Commercial']]\n",
    "y = train['meter_sale_price']\n",
    "x = sm.add_constant(x)\n",
    "model = OLS(y,x).fit()\n",
    "model.summary()"
   ]
  },
  {
   "cell_type": "code",
   "execution_count": null,
   "id": "10fb9d97-b71d-411d-a6b3-1595b47b3fb1",
   "metadata": {},
   "outputs": [],
   "source": [
    "# model validation:\n",
    "\n",
    "x_test = test[['procedure_area', 'usage_residential','usage_hospitality','Off_Plan_Reg', \n",
    " 'trans_group_gifts','trans_group_sales',\n",
    " 'Property_Building', 'Property_Unit', 'Property_Villa', 'Fam_landmarks', \n",
    " 'close_DubaiMall', 'Close_Marina_EmiratesMall', 'Close_MIRDIF_IBNMall', \n",
    " 'Rooms_3_4' , 'Rooms_moreThan_4', 'Rooms_Studio_Single', 'Rooms_Commercial']]\n",
    "x_test = sm.add_constant(x_test)\n",
    "y_test = test['meter_sale_price']\n",
    "y_pred = model.predict(x_test)\n",
    "\n",
    "print(f\"Mean squared error: {mean_squared_error(y_test, y_pred):.2f}\")\n",
    "print(f\"Coefficient of determination: {r2_score(y_test, y_pred):.2f}\")"
   ]
  },
  {
   "cell_type": "code",
   "execution_count": null,
   "id": "b820c49d-9be4-4ba1-b84d-302398a18087",
   "metadata": {},
   "outputs": [],
   "source": [
    "MSE = mean_squared_error(y_test, y_pred)\n",
    "r2 = r2_score(y_test, y_pred)\n",
    "data_results = {\n",
    "    'model name': ['ols'],\n",
    "    'r2': [r2],\n",
    "    'MSE': [MSE]\n",
    "       }\n",
    "\n",
    "score_df = pd.DataFrame(data_results)\n",
    "score_df"
   ]
  }
 ],
 "metadata": {
  "kernelspec": {
   "display_name": "Python 3 (ipykernel)",
   "language": "python",
   "name": "python3"
  },
  "language_info": {
   "codemirror_mode": {
    "name": "ipython",
    "version": 3
   },
   "file_extension": ".py",
   "mimetype": "text/x-python",
   "name": "python",
   "nbconvert_exporter": "python",
   "pygments_lexer": "ipython3",
   "version": "3.12.7"
  }
 },
 "nbformat": 4,
 "nbformat_minor": 5
}
